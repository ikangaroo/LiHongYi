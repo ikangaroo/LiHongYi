{
 "cells": [
  {
   "cell_type": "code",
   "execution_count": 1,
   "metadata": {},
   "outputs": [],
   "source": [
    "import numpy as np\n",
    "import pandas as pd"
   ]
  },
  {
   "cell_type": "markdown",
   "metadata": {},
   "source": [
    "### 读取数据"
   ]
  },
  {
   "cell_type": "code",
   "execution_count": 2,
   "metadata": {},
   "outputs": [],
   "source": [
    "def get_train_data():\n",
    "    data = pd.read_csv(\"/home/kangaroo/project/LiHongYi/HomeWork1/data/train.csv\")\n",
    "    pm2_5 = data.loc[data[\"observation\"] == \"PM2.5\"].iloc[:,3:]\n",
    "    x, y = [], []\n",
    "    for i in range(15):\n",
    "        x_ = pm2_5.iloc[:, i:i+9]\n",
    "        x_.columns = np.array(range(9))\n",
    "        y_ = pm2_5.iloc[:, 9]\n",
    "        y_.columns = [0]\n",
    "        x.append(x_)\n",
    "        y.append(y_)\n",
    "    X = np.array(pd.concat(x), int)\n",
    "    Y = np.array(pd.concat(y), int)\n",
    "    X = np.c_[np.ones((X.shape[0], 1)), X]\n",
    "    return X, Y"
   ]
  },
  {
   "cell_type": "code",
   "execution_count": 3,
   "metadata": {},
   "outputs": [],
   "source": [
    "def get_test_data():\n",
    "    data = pd.read_csv(\"/home/kangaroo/project/LiHongYi/HomeWork1/data/test.csv\")\n",
    "    pm2_5 = data.loc[data.iloc[:, 1] == \"PM2.5\"].iloc[:,2:]\n",
    "    X = np.array(pm2_5, int)\n",
    "    X = np.c_[np.ones((X.shape[0], 1)), X]\n",
    "    return X"
   ]
  },
  {
   "cell_type": "markdown",
   "metadata": {},
   "source": [
    "### 建立模型\n",
    "#### 1. Adagrad\n",
    "#### 2. Mini-Batch\n",
    "- 数据量太少，所以不需要用Mini-Batch"
   ]
  },
  {
   "cell_type": "code",
   "execution_count": 4,
   "metadata": {},
   "outputs": [],
   "source": [
    "class LinearRegression():\n",
    "    def __init__(self, lr = 0.1, epsilon =1e-8 ,epochs = 1000, batch_size = 64):\n",
    "        self.lr = lr\n",
    "        self.epsilon = epsilon\n",
    "        self.epochs = epochs\n",
    "        self.batch_size = 64\n",
    "        \n",
    "    def fetch_batch(self, batch_index, x, y):\n",
    "        x_batch = x[batch_index * self.batch_size : batch_index * (self.batch_size + 1), :]\n",
    "        y_batch = y[batch_index * self.batch_size : batch_index * (self.batch_size + 1)]\n",
    "        return x_batch, y_batch\n",
    "    \n",
    "    def output(self, x):\n",
    "        return np.dot(x, self.w)\n",
    "        \n",
    "    \n",
    "    def fit(self, x, y):\n",
    "        self.w = np.zeros(x.shape[1])\n",
    "        all_grad = np.zeros(x.shape[1])\n",
    "        \n",
    "        n_batches = int(np.ceil(len(y) / self.batch_size))\n",
    "        \n",
    "        for epoch in range(self.epochs):\n",
    "#             for batch_index in range(n_batches):\n",
    "#                 x_batch, y_batch = self.fetch_batch(batch_index, x, y)\n",
    "                \n",
    "            y_hat = self.output(x)\n",
    "            error = y - y_hat\n",
    "            grad = -1 * x.T.dot(error)\n",
    "            all_grad += grad ** 2\n",
    "            adagrad = np.sqrt(all_grad.sum())\n",
    "            self.w -= self.lr * grad / (adagrad + self.epsilon)\n",
    "\n",
    "    def r2(self, y_true, y_predict):\n",
    "        return 1 - np.sum((y_true - y_predict) ** 2) / np.sum((y_true - y_true.mean()) ** 2)\n",
    "    \n",
    "    def rmse(self, y_true, y_predict):\n",
    "        return np.sqrt(np.mean((y_true - y_predict) ** 2))"
   ]
  },
  {
   "cell_type": "code",
   "execution_count": 5,
   "metadata": {},
   "outputs": [],
   "source": [
    "x_train, y_train = get_train_data()\n",
    "x_test = get_test_data()"
   ]
  },
  {
   "cell_type": "code",
   "execution_count": 6,
   "metadata": {},
   "outputs": [],
   "source": [
    "LR = LinearRegression()\n",
    "LR.fit(x_train, y_train)"
   ]
  },
  {
   "cell_type": "markdown",
   "metadata": {},
   "source": [
    "### 根据模型进行预测"
   ]
  },
  {
   "cell_type": "code",
   "execution_count": 7,
   "metadata": {
    "scrolled": true
   },
   "outputs": [],
   "source": [
    "res = LR.output(x_test)"
   ]
  },
  {
   "cell_type": "markdown",
   "metadata": {},
   "source": [
    "### 查看模型R-square指数"
   ]
  },
  {
   "cell_type": "code",
   "execution_count": 8,
   "metadata": {},
   "outputs": [
    {
     "data": {
      "text/plain": [
       "0.5622674741023397"
      ]
     },
     "execution_count": 8,
     "metadata": {},
     "output_type": "execute_result"
    }
   ],
   "source": [
    "LR.r2(y_train, LR.output(x_train))"
   ]
  },
  {
   "cell_type": "code",
   "execution_count": 9,
   "metadata": {},
   "outputs": [
    {
     "data": {
      "text/plain": [
       "10.097933670000668"
      ]
     },
     "execution_count": 9,
     "metadata": {},
     "output_type": "execute_result"
    }
   ],
   "source": [
    "LR.rmse(y_train, LR.output(x_train))"
   ]
  },
  {
   "cell_type": "markdown",
   "metadata": {},
   "source": [
    "模型效果不好，待进一步优化\n",
    "\n",
    "- 交叉验证"
   ]
  },
  {
   "cell_type": "markdown",
   "metadata": {},
   "source": [
    "### 保存预测结果到指定文件"
   ]
  },
  {
   "cell_type": "code",
   "execution_count": 10,
   "metadata": {},
   "outputs": [],
   "source": [
    "ans = pd.read_csv(\"/home/kangaroo/project/LiHongYi/HomeWork1/data/sampleSubmission.csv\")"
   ]
  },
  {
   "cell_type": "code",
   "execution_count": 11,
   "metadata": {
    "scrolled": true
   },
   "outputs": [],
   "source": [
    "ans[\"value\"] = res.astype(np.int32)"
   ]
  },
  {
   "cell_type": "code",
   "execution_count": 12,
   "metadata": {},
   "outputs": [],
   "source": [
    "ans.to_csv(\"/home/kangaroo/project/LiHongYi/HomeWork1/data/sampleSubmission.csv\", index=False)"
   ]
  }
 ],
 "metadata": {
  "kernelspec": {
   "display_name": "Python 3",
   "language": "python",
   "name": "python3"
  },
  "language_info": {
   "codemirror_mode": {
    "name": "ipython",
    "version": 3
   },
   "file_extension": ".py",
   "mimetype": "text/x-python",
   "name": "python",
   "nbconvert_exporter": "python",
   "pygments_lexer": "ipython3",
   "version": "3.6.7"
  }
 },
 "nbformat": 4,
 "nbformat_minor": 2
}
